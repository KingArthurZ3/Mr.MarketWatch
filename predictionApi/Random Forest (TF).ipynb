{
 "cells": [
  {
   "cell_type": "code",
   "execution_count": 1,
   "metadata": {},
   "outputs": [],
   "source": [
    "import pandas as pd\n",
    "import datetime\n",
    "import numpy as np\n",
    "import matplotlib.pyplot as plt\n",
    "from sklearn import preprocessing\n",
    "\n",
    "def get_historical_data():\n",
    "    ''' Daily quotes from Google. Date format='yyyy-mm-dd' '''\n",
    "    # import data\n",
    "    df = pd.read_csv('./rsc/AAPL_data.csv')\n",
    "    # shift dates forward by one day\n",
    "    df.dropna()\n",
    "    df['Open-Close'] = df.open - df.close\n",
    "    df['High-Low'] = df.high - df.low\n",
    "    return df"
   ]
  },
  {
   "cell_type": "code",
   "execution_count": 2,
   "metadata": {},
   "outputs": [
    {
     "data": {
      "text/html": [
       "<div>\n",
       "<table border=\"1\" class=\"dataframe\">\n",
       "  <thead>\n",
       "    <tr style=\"text-align: right;\">\n",
       "      <th></th>\n",
       "      <th>date</th>\n",
       "      <th>20_day_sma</th>\n",
       "      <th>close</th>\n",
       "      <th>ewma_12</th>\n",
       "      <th>ewma_26</th>\n",
       "      <th>high</th>\n",
       "      <th>low</th>\n",
       "      <th>obv_10</th>\n",
       "      <th>open</th>\n",
       "      <th>rsi_14</th>\n",
       "      <th>volume</th>\n",
       "      <th>Open-Close</th>\n",
       "      <th>High-Low</th>\n",
       "    </tr>\n",
       "  </thead>\n",
       "  <tbody>\n",
       "    <tr>\n",
       "      <th>0</th>\n",
       "      <td>2015-01-30</td>\n",
       "      <td>110.6415</td>\n",
       "      <td>117.16</td>\n",
       "      <td>113.100715</td>\n",
       "      <td>111.782535</td>\n",
       "      <td>120.00</td>\n",
       "      <td>116.850</td>\n",
       "      <td>36869040.5</td>\n",
       "      <td>118.40</td>\n",
       "      <td>91.43</td>\n",
       "      <td>83745461.0</td>\n",
       "      <td>1.24</td>\n",
       "      <td>3.150</td>\n",
       "    </tr>\n",
       "    <tr>\n",
       "      <th>1</th>\n",
       "      <td>2015-02-02</td>\n",
       "      <td>111.1065</td>\n",
       "      <td>118.63</td>\n",
       "      <td>113.977641</td>\n",
       "      <td>112.415496</td>\n",
       "      <td>119.17</td>\n",
       "      <td>116.080</td>\n",
       "      <td>37070624.7</td>\n",
       "      <td>118.05</td>\n",
       "      <td>92.46</td>\n",
       "      <td>62739100.0</td>\n",
       "      <td>-0.58</td>\n",
       "      <td>3.090</td>\n",
       "    </tr>\n",
       "    <tr>\n",
       "      <th>2</th>\n",
       "      <td>2015-02-03</td>\n",
       "      <td>111.7265</td>\n",
       "      <td>118.65</td>\n",
       "      <td>114.715157</td>\n",
       "      <td>112.981405</td>\n",
       "      <td>119.09</td>\n",
       "      <td>117.610</td>\n",
       "      <td>39228009.3</td>\n",
       "      <td>118.50</td>\n",
       "      <td>88.13</td>\n",
       "      <td>51915749.0</td>\n",
       "      <td>-0.15</td>\n",
       "      <td>1.480</td>\n",
       "    </tr>\n",
       "    <tr>\n",
       "      <th>3</th>\n",
       "      <td>2015-02-04</td>\n",
       "      <td>112.3915</td>\n",
       "      <td>119.56</td>\n",
       "      <td>115.476853</td>\n",
       "      <td>113.568741</td>\n",
       "      <td>120.51</td>\n",
       "      <td>118.309</td>\n",
       "      <td>38072992.9</td>\n",
       "      <td>118.50</td>\n",
       "      <td>72.85</td>\n",
       "      <td>70149743.0</td>\n",
       "      <td>-1.06</td>\n",
       "      <td>2.201</td>\n",
       "    </tr>\n",
       "    <tr>\n",
       "      <th>4</th>\n",
       "      <td>2015-02-05</td>\n",
       "      <td>113.0010</td>\n",
       "      <td>119.94</td>\n",
       "      <td>116.176181</td>\n",
       "      <td>114.129045</td>\n",
       "      <td>120.23</td>\n",
       "      <td>119.250</td>\n",
       "      <td>29055853.4</td>\n",
       "      <td>120.02</td>\n",
       "      <td>74.42</td>\n",
       "      <td>42246245.0</td>\n",
       "      <td>0.08</td>\n",
       "      <td>0.980</td>\n",
       "    </tr>\n",
       "  </tbody>\n",
       "</table>\n",
       "</div>"
      ],
      "text/plain": [
       "         date  20_day_sma   close     ewma_12     ewma_26    high      low  \\\n",
       "0  2015-01-30    110.6415  117.16  113.100715  111.782535  120.00  116.850   \n",
       "1  2015-02-02    111.1065  118.63  113.977641  112.415496  119.17  116.080   \n",
       "2  2015-02-03    111.7265  118.65  114.715157  112.981405  119.09  117.610   \n",
       "3  2015-02-04    112.3915  119.56  115.476853  113.568741  120.51  118.309   \n",
       "4  2015-02-05    113.0010  119.94  116.176181  114.129045  120.23  119.250   \n",
       "\n",
       "       obv_10    open  rsi_14      volume  Open-Close  High-Low  \n",
       "0  36869040.5  118.40   91.43  83745461.0        1.24     3.150  \n",
       "1  37070624.7  118.05   92.46  62739100.0       -0.58     3.090  \n",
       "2  39228009.3  118.50   88.13  51915749.0       -0.15     1.480  \n",
       "3  38072992.9  118.50   72.85  70149743.0       -1.06     2.201  \n",
       "4  29055853.4  120.02   74.42  42246245.0        0.08     0.980  "
      ]
     },
     "execution_count": 2,
     "metadata": {},
     "output_type": "execute_result"
    }
   ],
   "source": [
    "data = get_historical_data()\n",
    "data.head()"
   ]
  },
  {
   "cell_type": "code",
   "execution_count": 3,
   "metadata": {},
   "outputs": [
    {
     "name": "stdout",
     "output_type": "stream",
     "text": [
      "\n",
      "\n",
      "Open   --- mean : 124.34526041666666   \t Std:  21.030606018947655   \t Max:  175.11   \t Min:  90.0\n",
      "high   --- mean : 125.32343222222228   \t Std:  21.01311209755156   \t Max:  176.095   \t Min:  91.67\n",
      "low    --- mean : 123.33019083333349   \t Std:  20.951428597751843   \t Max:  174.6459   \t Min:  89.47\n",
      "close  --- mean : 124.37187305555554   \t Std:  20.995181664500663   \t Max:  175.88   \t Min:  90.34\n",
      "volume --- mean : 38646869.51944444   \t Std:  19361628.078197017   \t Max:  162206292.0   \t Min:  11475922.0\n"
     ]
    }
   ],
   "source": [
    "print(\"\\n\")\n",
    "print(\"Open   --- mean :\", np.mean(data['open']),  \"  \\t Std: \", np.std(data['open']),  \"  \\t Max: \", np.max(data['open']),  \"  \\t Min: \", np.min(data['open']))\n",
    "print(\"high   --- mean :\", np.mean(data['high']),  \"  \\t Std: \", np.std(data['high']),  \"  \\t Max: \", np.max(data['high']),  \"  \\t Min: \", np.min(data['high']))\n",
    "print(\"low    --- mean :\", np.mean(data['low']),   \"  \\t Std: \", np.std(data['low']),   \"  \\t Max: \", np.max(data['low']),   \"  \\t Min: \", np.min(data['low']))\n",
    "print(\"close  --- mean :\", np.mean(data['close']), \"  \\t Std: \", np.std(data['close']), \"  \\t Max: \", np.max(data['close']), \"  \\t Min: \", np.min(data['close']))\n",
    "print(\"volume --- mean :\", np.mean(data['volume']),\"  \\t Std: \", np.std(data['volume']),\"  \\t Max: \", np.max(data['volume']),\"  \\t Min: \", np.min(data['volume']))"
   ]
  },
  {
   "cell_type": "code",
   "execution_count": 4,
   "metadata": {},
   "outputs": [
    {
     "data": {
      "text/html": [
       "<div>\n",
       "<table border=\"1\" class=\"dataframe\">\n",
       "  <thead>\n",
       "    <tr style=\"text-align: right;\">\n",
       "      <th></th>\n",
       "      <th>20_day_sma</th>\n",
       "      <th>close</th>\n",
       "      <th>ewma_12</th>\n",
       "      <th>ewma_26</th>\n",
       "      <th>high</th>\n",
       "      <th>low</th>\n",
       "      <th>obv_10</th>\n",
       "      <th>open</th>\n",
       "      <th>rsi_14</th>\n",
       "      <th>volume</th>\n",
       "      <th>Open-Close</th>\n",
       "      <th>High-Low</th>\n",
       "    </tr>\n",
       "  </thead>\n",
       "  <tbody>\n",
       "    <tr>\n",
       "      <th>715</th>\n",
       "      <td>172.5070</td>\n",
       "      <td>169.800</td>\n",
       "      <td>171.468236</td>\n",
       "      <td>169.547443</td>\n",
       "      <td>172.6200</td>\n",
       "      <td>169.63</td>\n",
       "      <td>-8143500.7</td>\n",
       "      <td>172.48</td>\n",
       "      <td>69.83</td>\n",
       "      <td>32115052.0</td>\n",
       "      <td>2.680</td>\n",
       "      <td>2.9900</td>\n",
       "    </tr>\n",
       "    <tr>\n",
       "      <th>716</th>\n",
       "      <td>172.3640</td>\n",
       "      <td>169.640</td>\n",
       "      <td>171.186969</td>\n",
       "      <td>169.554299</td>\n",
       "      <td>171.5200</td>\n",
       "      <td>168.40</td>\n",
       "      <td>-13453483.5</td>\n",
       "      <td>169.06</td>\n",
       "      <td>52.67</td>\n",
       "      <td>27008428.0</td>\n",
       "      <td>-0.580</td>\n",
       "      <td>3.1200</td>\n",
       "    </tr>\n",
       "    <tr>\n",
       "      <th>717</th>\n",
       "      <td>172.1020</td>\n",
       "      <td>169.010</td>\n",
       "      <td>170.852051</td>\n",
       "      <td>169.513981</td>\n",
       "      <td>170.2047</td>\n",
       "      <td>166.46</td>\n",
       "      <td>-13506249.6</td>\n",
       "      <td>167.50</td>\n",
       "      <td>54.73</td>\n",
       "      <td>28224357.0</td>\n",
       "      <td>-1.510</td>\n",
       "      <td>3.7447</td>\n",
       "    </tr>\n",
       "    <tr>\n",
       "      <th>718</th>\n",
       "      <td>171.8341</td>\n",
       "      <td>169.452</td>\n",
       "      <td>170.636658</td>\n",
       "      <td>169.509389</td>\n",
       "      <td>170.4400</td>\n",
       "      <td>168.91</td>\n",
       "      <td>-17218588.7</td>\n",
       "      <td>169.03</td>\n",
       "      <td>54.83</td>\n",
       "      <td>24469613.0</td>\n",
       "      <td>-0.422</td>\n",
       "      <td>1.5300</td>\n",
       "    </tr>\n",
       "    <tr>\n",
       "      <th>719</th>\n",
       "      <td>171.5086</td>\n",
       "      <td>169.370</td>\n",
       "      <td>170.441788</td>\n",
       "      <td>169.499064</td>\n",
       "      <td>171.0000</td>\n",
       "      <td>168.82</td>\n",
       "      <td>-11855752.3</td>\n",
       "      <td>170.49</td>\n",
       "      <td>49.62</td>\n",
       "      <td>23096872.0</td>\n",
       "      <td>1.120</td>\n",
       "      <td>2.1800</td>\n",
       "    </tr>\n",
       "  </tbody>\n",
       "</table>\n",
       "</div>"
      ],
      "text/plain": [
       "     20_day_sma    close     ewma_12     ewma_26      high     low  \\\n",
       "715    172.5070  169.800  171.468236  169.547443  172.6200  169.63   \n",
       "716    172.3640  169.640  171.186969  169.554299  171.5200  168.40   \n",
       "717    172.1020  169.010  170.852051  169.513981  170.2047  166.46   \n",
       "718    171.8341  169.452  170.636658  169.509389  170.4400  168.91   \n",
       "719    171.5086  169.370  170.441788  169.499064  171.0000  168.82   \n",
       "\n",
       "         obv_10    open  rsi_14      volume  Open-Close  High-Low  \n",
       "715  -8143500.7  172.48   69.83  32115052.0       2.680    2.9900  \n",
       "716 -13453483.5  169.06   52.67  27008428.0      -0.580    3.1200  \n",
       "717 -13506249.6  167.50   54.73  28224357.0      -1.510    3.7447  \n",
       "718 -17218588.7  169.03   54.83  24469613.0      -0.422    1.5300  \n",
       "719 -11855752.3  170.49   49.62  23096872.0       1.120    2.1800  "
      ]
     },
     "execution_count": 4,
     "metadata": {},
     "output_type": "execute_result"
    }
   ],
   "source": [
    "data = data.drop(['date'], 1)\n",
    "data = data.dropna()\n",
    "data.tail()"
   ]
  },
  {
   "cell_type": "code",
   "execution_count": 5,
   "metadata": {
    "scrolled": true
   },
   "outputs": [],
   "source": [
    "data_test = np.where(data['close'].shift(-1) > data['close'],1,-1)\n"
   ]
  },
  {
   "cell_type": "code",
   "execution_count": null,
   "metadata": {},
   "outputs": [],
   "source": []
  },
  {
   "cell_type": "code",
   "execution_count": 6,
   "metadata": {},
   "outputs": [
    {
     "data": {
      "image/png": "[encoded data removed]",
      "text/plain": [
       "<Figure size 432x288 with 1 Axes>"
      ]
     },
     "metadata": {},
     "output_type": "display_data"
    }
   ],
   "source": [
    "plt.plot(data.index, data['open'], label='AAPL')\n",
    "plt.xlabel('trading days')\n",
    "plt.ylabel('price (USD)')\n",
    "plt.title(\"AAPL Open Price data\")\n",
    "plt.rcParams['figure.figsize'] = (10,5)\n",
    "plt.legend()\n",
    "plt.show()\n"
   ]
  },
  {
   "cell_type": "code",
   "execution_count": 7,
   "metadata": {},
   "outputs": [
    {
     "data": {
      "image/png": "[encoded data removed]",
      "text/plain": [
       "<Figure size 720x360 with 1 Axes>"
      ]
     },
     "metadata": {},
     "output_type": "display_data"
    }
   ],
   "source": [
    "data = preprocessing.scale(data)\n",
    "data = pd.DataFrame(data, columns=['20_day_sma','close','ewma_12','ewma_26','high','low','obv_10','open','rsi_14','volume', 'Open-Close','High-Low'])\n",
    "plt.plot(data.index, data['open'], label='AAPL')\n",
    "plt.xlabel('trading days')\n",
    "plt.ylabel('price (USD)')\n",
    "plt.title(\"AAPL Open Price data\")\n",
    "plt.rcParams['figure.figsize'] = (10,5)\n",
    "plt.legend()\n",
    "plt.show()"
   ]
  },
  {
   "cell_type": "code",
   "execution_count": 8,
   "metadata": {},
   "outputs": [
    {
     "name": "stdout",
     "output_type": "stream",
     "text": [
      "\n",
      "\n",
      "Open   --- mean : 5.705312765434833e-16   \t Std:  1.0   \t Max:  2.4138505346729695   \t Min:  -1.6331084508797844\n",
      "high   --- mean : 1.1459968776408561e-15   \t Std:  0.9999999999999998   \t Max:  2.416185072543048   \t Min:  -1.6015444102705525\n",
      "low    --- mean : 4.9343245538895844e-17   \t Std:  1.0   \t Max:  2.449270173976252   \t Min:  -1.6161280208341804\n",
      "close  --- mean : 2.183438615096141e-16   \t Std:  0.9999999999999998   \t Max:  2.4533308531231266   \t Min:  -1.6209372988230784\n",
      "volume --- mean : -2.400857290751901e-16   \t Std:  0.9999999999999998   \t Max:  6.3816649086289825   \t Min:  -1.4033400192229408\n"
     ]
    }
   ],
   "source": [
    "print(\"\\n\")\n",
    "print(\"Open   --- mean :\", np.mean(data['open']),  \"  \\t Std: \", np.std(data['open']),  \"  \\t Max: \", np.max(data['open']),  \"  \\t Min: \", np.min(data['open']))\n",
    "print(\"high   --- mean :\", np.mean(data['high']),  \"  \\t Std: \", np.std(data['high']),  \"  \\t Max: \", np.max(data['high']),  \"  \\t Min: \", np.min(data['high']))\n",
    "print(\"low    --- mean :\", np.mean(data['low']),   \"  \\t Std: \", np.std(data['low']),   \"  \\t Max: \", np.max(data['low']),   \"  \\t Min: \", np.min(data['low']))\n",
    "print(\"close  --- mean :\", np.mean(data['close']), \"  \\t Std: \", np.std(data['close']), \"  \\t Max: \", np.max(data['close']), \"  \\t Min: \", np.min(data['close']))\n",
    "print(\"volume --- mean :\", np.mean(data['volume']),\"  \\t Std: \", np.std(data['volume']),\"  \\t Max: \", np.max(data['volume']),\"  \\t Min: \", np.min(data['volume']))\n"
   ]
  },
  {
   "cell_type": "code",
   "execution_count": 9,
   "metadata": {},
   "outputs": [
    {
     "name": "stdout",
     "output_type": "stream",
     "text": [
      "WARNING:tensorflow:From /Library/Frameworks/Python.framework/Versions/3.6/lib/python3.6/site-packages/tensorflow/contrib/learn/python/learn/datasets/base.py:198: retry (from tensorflow.contrib.learn.python.learn.datasets.base) is deprecated and will be removed in a future version.\n",
      "Instructions for updating:\n",
      "Use the retry module or similar alternatives.\n"
     ]
    }
   ],
   "source": [
    "from __future__ import print_function\n",
    "\n",
    "import tensorflow as tf\n",
    "from tensorflow.contrib.tensor_forest.python import tensor_forest\n",
    "from tensorflow.python.ops import resources\n",
    "\n",
    "# Ignore all GPUs, tf random forest does not benefit from it.\n",
    "import os\n",
    "os.environ[\"CUDA_VISIBLE_DEVICES\"] = \"\""
   ]
  },
  {
   "cell_type": "code",
   "execution_count": 10,
   "metadata": {},
   "outputs": [],
   "source": [
    "# Training and test data\n",
    "train_start = 0\n",
    "train_end = int(np.floor(0.8*len(data)))\n",
    "test_start = 0\n",
    "test_end = int(np.floor(0.8*len(data_test)))\n",
    "\n",
    "# training features\n",
    "data_train = np.array(data)\n",
    "\n",
    "# Build X and y\n",
    "X_train = data_train[train_start:train_end]\n",
    "y_train = data_test[test_start:test_end]\n",
    "X_test = data_train[train_end::]\n",
    "y_test = data_test[test_end::]"
   ]
  },
  {
   "cell_type": "code",
   "execution_count": 11,
   "metadata": {},
   "outputs": [],
   "source": [
    "num_steps = 500 # Total steps to train\n",
    "batch_size = 100 # The number of samples per batch\n",
    "num_classes = 2 # buy or call\n",
    "num_features = 12 # number of technical indicators\n",
    "num_trees = 10\n",
    "max_nodes = 1000"
   ]
  },
  {
   "cell_type": "code",
   "execution_count": null,
   "metadata": {},
   "outputs": [
    {
     "name": "stdout",
     "output_type": "stream",
     "text": [
      "INFO:tensorflow:Constructing forest with params = \n",
      "INFO:tensorflow:{'num_trees': 10, 'max_nodes': 1000, 'bagging_fraction': 1.0, 'feature_bagging_fraction': 1.0, 'num_splits_to_consider': 10, 'max_fertile_nodes': 0, 'split_after_samples': 250, 'valid_leaf_threshold': 1, 'dominate_method': 'bootstrap', 'dominate_fraction': 0.99, 'model_name': 'all_dense', 'split_finish_name': 'basic', 'split_pruning_name': 'none', 'collate_examples': False, 'checkpoint_stats': False, 'use_running_stats_method': False, 'initialize_average_splits': False, 'inference_tree_paths': False, 'param_file': None, 'split_name': 'less_or_equal', 'early_finish_check_every_samples': 0, 'prune_every_samples': 0, 'num_classes': 2, 'num_features': 12, 'regression': False, 'bagged_num_features': 12, 'bagged_features': None, 'num_outputs': 1, 'num_output_columns': 3, 'base_random_seed': 0, 'leaf_model_type': 0, 'stats_model_type': 0, 'finish_type': 0, 'pruning_type': 0, 'split_type': 0}\n"
     ]
    }
   ],
   "source": [
    "\n",
    "\n",
    "# Input and Target data\n",
    "X = tf.placeholder(tf.float32, shape=[None, num_features])\n",
    "# For random forest, labels must be integers (the class id)\n",
    "Y = tf.placeholder(tf.int32, shape=[None])\n",
    "\n",
    "# Random Forest Parameters\n",
    "hparams = tensor_forest.ForestHParams(num_classes=num_classes,\n",
    "                                      num_features=num_features,\n",
    "                                      num_trees=num_trees,\n",
    "                                      max_nodes=max_nodes, regression = False).fill()\n",
    "\n",
    "# Build the Random Forest\n",
    "forest_graph = tensor_forest.RandomForestGraphs(hparams)\n",
    "\n",
    "# Get training graph and loss\n",
    "train_op = forest_graph.training_graph(X, Y)\n",
    "loss_op = forest_graph.training_loss(X, Y)\n",
    "\n",
    "# Measure the accuracy\n",
    "infer_op, _, _ = forest_graph.inference_graph(X)\n",
    "correct_prediction = tf.equal(tf.argmax(infer_op, 1), tf.cast(Y, tf.int64))\n",
    "accuracy_op = tf.reduce_mean(tf.cast(correct_prediction, tf.float32))\n",
    "\n",
    "# Initialize the variables (i.e. assign their default value) and forest resources\n",
    "init_vars = tf.group(tf.global_variables_initializer(),\n",
    "    resources.initialize_resources(resources.shared_resources()))\n",
    "\n",
    "# Start TensorFlow session\n",
    "sess = tf.Session()\n",
    "\n",
    "# Run the initializer\n",
    "sess.run(init_vars)\n",
    "\n",
    "# Training\n",
    "for i in range(1, num_steps + 1):\n",
    "    # Prepare Data\n",
    "    \n",
    "    # Shuffle training data\n",
    "    shuffle_indices = np.random.permutation(np.arange(len(y_train)))\n",
    "    X_train = X_train[shuffle_indices]\n",
    "    y_train = y_train[shuffle_indices]\n",
    "\n",
    "    _, l = sess.run([train_op, loss_op], feed_dict={X: X_train, Y: y_train})\n",
    "    if i % 50 == 0 or i == 1:\n",
    "        acc = sess.run(accuracy_op, feed_dict={X: X_train, Y: y_train})\n",
    "        print('Step %i, Loss: %f, Acc: %f' % (i, l, acc))\n",
    "\n",
    "# Test Model\n",
    "test_x, test_y = X_test, y_test\n",
    "print(\"Test Accuracy:\", sess.run(accuracy_op, feed_dict={X: test_x, Y: test_y}))"
   ]
  },
  {
   "cell_type": "code",
   "execution_count": null,
   "metadata": {},
   "outputs": [],
   "source": []
  }
 ],
 "metadata": {
  "kernelspec": {
   "display_name": "Python 3",
   "language": "python",
   "name": "python3"
  },
  "language_info": {
   "codemirror_mode": {
    "name": "ipython",
    "version": 3
   },
   "file_extension": ".py",
   "mimetype": "text/x-python",
   "name": "python",
   "nbconvert_exporter": "python",
   "pygments_lexer": "ipython3",
   "version": "3.6.5"
  }
 },
 "nbformat": 4,
 "nbformat_minor": 2
}
